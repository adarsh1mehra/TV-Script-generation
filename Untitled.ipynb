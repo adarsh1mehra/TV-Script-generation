{
 "cells": [
  {
   "cell_type": "code",
   "execution_count": 2,
   "metadata": {},
   "outputs": [
    {
     "name": "stdout",
     "output_type": "stream",
     "text": [
      "Collecting github\n",
      "\u001b[31m  Could not find a version that satisfies the requirement github (from versions: )\u001b[0m\n",
      "\u001b[31mNo matching distribution found for github\u001b[0m\n"
     ]
    }
   ],
   "source": [
    "!pip install github"
   ]
  },
  {
   "cell_type": "code",
   "execution_count": 14,
   "metadata": {},
   "outputs": [
    {
     "name": "stdout",
     "output_type": "stream",
     "text": [
      "/home/backups\n"
     ]
    }
   ],
   "source": [
    "%cd backups"
   ]
  },
  {
   "cell_type": "code",
   "execution_count": 22,
   "metadata": {},
   "outputs": [
    {
     "name": "stdout",
     "output_type": "stream",
     "text": [
      "Reinitialized existing Git repository in /home/workspace/.git/\r\n"
     ]
    }
   ],
   "source": [
    "!git init"
   ]
  },
  {
   "cell_type": "code",
   "execution_count": 23,
   "metadata": {},
   "outputs": [],
   "source": [
    "!git config --global user.email 'adarsh.mehra800@gmail.com'"
   ]
  },
  {
   "cell_type": "code",
   "execution_count": 24,
   "metadata": {},
   "outputs": [],
   "source": [
    "!git config --global user.name 'adarsh1mehra'"
   ]
  },
  {
   "cell_type": "code",
   "execution_count": 25,
   "metadata": {},
   "outputs": [],
   "source": [
    "!git add -A"
   ]
  },
  {
   "cell_type": "code",
   "execution_count": 26,
   "metadata": {},
   "outputs": [
    {
     "name": "stdout",
     "output_type": "stream",
     "text": [
      "[master (root-commit) 77a54ec] Older Files Uploading\r\n",
      " 14 files changed, 114438 insertions(+)\r\n",
      " create mode 100644 .ipynb_checkpoints/Untitled-checkpoint.ipynb\r\n",
      " create mode 100644 .ipynb_checkpoints/dlnd_tv_script_generation-checkpoint.ipynb\r\n",
      " create mode 100644 .ipynb_checkpoints/dlnd_tv_script_generation-zh-checkpoint.ipynb\r\n",
      " create mode 100644 Untitled.ipynb\r\n",
      " create mode 100644 __pycache__/helper.cpython-36.pyc\r\n",
      " create mode 100644 __pycache__/problem_unittests.cpython-36.pyc\r\n",
      " create mode 100644 data/Seinfeld_Scripts.txt\r\n",
      " create mode 100644 dlnd_tv_script_generation-zh.ipynb\r\n",
      " create mode 100644 dlnd_tv_script_generation.ipynb\r\n",
      " create mode 100644 generated_script_1.txt\r\n",
      " create mode 100644 helper.py\r\n",
      " create mode 100644 preprocess.p\r\n",
      " create mode 100644 problem_unittests.py\r\n",
      " create mode 100644 trained_rnn.pt\r\n"
     ]
    }
   ],
   "source": [
    "!git commit -m 'Older Files Uploading'"
   ]
  },
  {
   "cell_type": "code",
   "execution_count": null,
   "metadata": {},
   "outputs": [
    {
     "name": "stdout",
     "output_type": "stream",
     "text": [
      "Username for 'https://github.com': "
     ]
    }
   ],
   "source": [
    "!git remote add origin https://github.com/adarsh1mehra/TV-Script-generation.git\n",
    "!git push -u origin master\n",
    "    "
   ]
  },
  {
   "cell_type": "code",
   "execution_count": null,
   "metadata": {},
   "outputs": [],
   "source": [
    "!git remote add origin https://github.com/adarsh1mehra/TV-Script-generation.git\n",
    "!git push -u origin master\n",
    "    "
   ]
  },
  {
   "cell_type": "code",
   "execution_count": null,
   "metadata": {},
   "outputs": [],
   "source": []
  }
 ],
 "metadata": {
  "kernelspec": {
   "display_name": "Python 3",
   "language": "python",
   "name": "python3"
  },
  "language_info": {
   "codemirror_mode": {
    "name": "ipython",
    "version": 3
   },
   "file_extension": ".py",
   "mimetype": "text/x-python",
   "name": "python",
   "nbconvert_exporter": "python",
   "pygments_lexer": "ipython3",
   "version": "3.6.3"
  }
 },
 "nbformat": 4,
 "nbformat_minor": 2
}
